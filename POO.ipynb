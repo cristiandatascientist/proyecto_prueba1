{
 "cells": [
  {
   "cell_type": "code",
   "execution_count": 1,
   "id": "b8dae0f3",
   "metadata": {},
   "outputs": [],
   "source": [
    "class Persona:\n",
    "    def __init__(self, nombre, edad):\n",
    "        self.nombre = nombre\n",
    "        self.edad = edad\n",
    "\n",
    "    def saludar(self):\n",
    "        print(f\"Hola, mi nombre es {self.nombre} y tengo {self.edad} años.\")"
   ]
  },
  {
   "cell_type": "code",
   "execution_count": 2,
   "id": "fec4a366",
   "metadata": {},
   "outputs": [],
   "source": [
    "persona1 = Persona(\"Cristian\", 27)"
   ]
  },
  {
   "cell_type": "code",
   "execution_count": 3,
   "id": "37b52416",
   "metadata": {},
   "outputs": [
    {
     "name": "stdout",
     "output_type": "stream",
     "text": [
      "Hola, mi nombre es Cristian y tengo 27 años.\n"
     ]
    }
   ],
   "source": [
    "persona1.saludar()"
   ]
  },
  {
   "cell_type": "code",
   "execution_count": 5,
   "id": "d47284b6",
   "metadata": {},
   "outputs": [],
   "source": [
    "Persona.__init__(persona1, \"Cristian\", 27)"
   ]
  },
  {
   "cell_type": "code",
   "execution_count": 6,
   "id": "ec453633",
   "metadata": {},
   "outputs": [
    {
     "data": {
      "text/plain": [
       "<__main__.Persona at 0x1ba7eb2c6e0>"
      ]
     },
     "execution_count": 6,
     "metadata": {},
     "output_type": "execute_result"
    }
   ],
   "source": [
    "persona1"
   ]
  },
  {
   "cell_type": "code",
   "execution_count": 7,
   "id": "1859c00a",
   "metadata": {},
   "outputs": [],
   "source": [
    "class Animal:\n",
    "    def hacer_sonido(self):\n",
    "        print (\"Ruido\")"
   ]
  },
  {
   "cell_type": "code",
   "execution_count": 8,
   "id": "f58dc2d4",
   "metadata": {},
   "outputs": [],
   "source": [
    "vaca = Animal()"
   ]
  },
  {
   "cell_type": "code",
   "execution_count": 9,
   "id": "ee5a1ef8",
   "metadata": {},
   "outputs": [
    {
     "name": "stdout",
     "output_type": "stream",
     "text": [
      "Ruido\n"
     ]
    }
   ],
   "source": [
    "vaca.hacer_sonido()"
   ]
  },
  {
   "cell_type": "code",
   "execution_count": 15,
   "id": "cb938e03",
   "metadata": {},
   "outputs": [],
   "source": [
    "class Animal2:\n",
    "    def __init__(self, nombre):\n",
    "        self.nombre = nombre\n",
    "    def hablar(self):\n",
    "        return \"Hace un sonido\"\n",
    "\n",
    "class Perro(Animal2):\n",
    "    def hablar(self):\n",
    "        return \"Ladra\"\n",
    "\n",
    "class Gato(Animal2):\n",
    "    def hablar(self):\n",
    "        return \"Miau\""
   ]
  },
  {
   "cell_type": "code",
   "execution_count": 16,
   "id": "9458981b",
   "metadata": {},
   "outputs": [],
   "source": [
    "animales = [Perro(\"Firulais\"), Gato(\"Michi\")]"
   ]
  },
  {
   "cell_type": "code",
   "execution_count": 18,
   "id": "b36c1c7d",
   "metadata": {},
   "outputs": [
    {
     "name": "stdout",
     "output_type": "stream",
     "text": [
      "Firulais dice: Ladra\n",
      "Michi dice: Miau\n"
     ]
    }
   ],
   "source": [
    "for animal in animales:\n",
    "    print(f\"{animal.nombre} dice: {animal.hablar()}\")"
   ]
  },
  {
   "cell_type": "code",
   "execution_count": 19,
   "id": "5351e530",
   "metadata": {},
   "outputs": [],
   "source": [
    "class Animal:\n",
    "    def __init__(self, nombre):\n",
    "        self.nombre = nombre\n",
    "    def hablar(self):\n",
    "        return \"Hace un sonido\""
   ]
  },
  {
   "cell_type": "code",
   "execution_count": 20,
   "id": "4dd4720b",
   "metadata": {},
   "outputs": [],
   "source": [
    "class Conejo(Animal):\n",
    "    pass"
   ]
  },
  {
   "cell_type": "code",
   "execution_count": 21,
   "id": "19eb678e",
   "metadata": {},
   "outputs": [],
   "source": [
    "class Tortuga(Animal):\n",
    "    pass"
   ]
  },
  {
   "cell_type": "code",
   "execution_count": 22,
   "id": "bb0af4af",
   "metadata": {},
   "outputs": [],
   "source": [
    "c = Conejo(\"Bugs\")"
   ]
  },
  {
   "cell_type": "code",
   "execution_count": 23,
   "id": "7ada9bee",
   "metadata": {},
   "outputs": [],
   "source": [
    "t = Tortuga(\"Donatello\")"
   ]
  },
  {
   "cell_type": "code",
   "execution_count": 24,
   "id": "48964963",
   "metadata": {},
   "outputs": [
    {
     "name": "stdout",
     "output_type": "stream",
     "text": [
      "Bugs dice Hace un sonido\n"
     ]
    }
   ],
   "source": [
    "print(f\"{c.nombre} dice {c.hablar()}\")"
   ]
  },
  {
   "cell_type": "code",
   "execution_count": 25,
   "id": "4b14c3fd",
   "metadata": {},
   "outputs": [
    {
     "name": "stdout",
     "output_type": "stream",
     "text": [
      "Donatello dice Hace un sonido\n"
     ]
    }
   ],
   "source": [
    "print(f\"{t.nombre} dice {t.hablar()}\")"
   ]
  },
  {
   "cell_type": "code",
   "execution_count": 26,
   "id": "33625478",
   "metadata": {},
   "outputs": [],
   "source": [
    "class Perro(Animal):\n",
    "    def __init__(self, nombre, raza):\n",
    "        super().__init__(nombre) #Llama al constructor de animal\n",
    "        self.raza = raza\n",
    "    \n",
    "    def hablar(self):\n",
    "        return \"Ladra\""
   ]
  },
  {
   "cell_type": "code",
   "execution_count": 27,
   "id": "15fd3fe4",
   "metadata": {},
   "outputs": [],
   "source": [
    "p = Perro(\"Firulais\", \"Labrador\")"
   ]
  },
  {
   "cell_type": "code",
   "execution_count": null,
   "id": "4556b48b",
   "metadata": {},
   "outputs": [
    {
     "name": "stdout",
     "output_type": "stream",
     "text": [
      "Firulais\n",
      "Labrador\n",
      "Ladra\n"
     ]
    }
   ],
   "source": [
    "print (p.nombre) #Método heredado\n",
    "print (p.raza)\n",
    "print (p.hablar())"
   ]
  },
  {
   "cell_type": "code",
   "execution_count": 32,
   "id": "c01f47a7",
   "metadata": {},
   "outputs": [],
   "source": [
    "class Animal:\n",
    "    def __init__(self, nombre):\n",
    "        self.nombre = nombre\n",
    "    def hablar(self):\n",
    "        return \"Hacer un sonido\""
   ]
  },
  {
   "cell_type": "code",
   "execution_count": 35,
   "id": "e19904d5",
   "metadata": {},
   "outputs": [],
   "source": [
    "class Perro(Animal):\n",
    "    def __init__(self, nombre, raza):\n",
    "        super().__init__(nombre)\n",
    "        self.raza = raza\n",
    "    def hablar(self):\n",
    "        return \"Ladra\""
   ]
  },
  {
   "cell_type": "code",
   "execution_count": 36,
   "id": "bce2ece6",
   "metadata": {},
   "outputs": [],
   "source": [
    "class Gato(Animal):\n",
    "    def __init__(self, nombre, color):\n",
    "        super().__init__(nombre)\n",
    "        self.color = color\n",
    "    def hablar(self):\n",
    "        return \"Miau\""
   ]
  },
  {
   "cell_type": "code",
   "execution_count": 37,
   "id": "45b719f1",
   "metadata": {},
   "outputs": [],
   "source": [
    "class Pato(Animal):\n",
    "    def __init__(self, nombre, vuela):\n",
    "        super().__init__(nombre)\n",
    "        self.vuela = vuela\n",
    "    def hablar(self):\n",
    "        return \"Cuac\""
   ]
  },
  {
   "cell_type": "code",
   "execution_count": 40,
   "id": "e137c0cc",
   "metadata": {},
   "outputs": [],
   "source": [
    "animales = [Perro(\"firulais\",\"labrador\"), Gato(\"michi\", \"naranjo\"), Pato(\"cuaki\",True)]"
   ]
  },
  {
   "cell_type": "code",
   "execution_count": 44,
   "id": "33ee62e1",
   "metadata": {},
   "outputs": [
    {
     "name": "stdout",
     "output_type": "stream",
     "text": [
      "El firulais, Tipo: Perro dice Ladra\n",
      "El michi, Tipo: Gato dice Miau\n",
      "El cuaki, Tipo: Pato dice Cuac\n"
     ]
    }
   ],
   "source": [
    "for animal in animales:\n",
    "    tipo = type(animal).__name__\n",
    "    print (f\"El {animal.nombre}, Tipo: {tipo} dice {animal.hablar()}\")"
   ]
  },
  {
   "cell_type": "code",
   "execution_count": 45,
   "id": "96392ab8",
   "metadata": {},
   "outputs": [],
   "source": [
    "p = Perro(\"Firulais\", \"Labrador\")"
   ]
  },
  {
   "cell_type": "code",
   "execution_count": 46,
   "id": "b939a2b3",
   "metadata": {},
   "outputs": [
    {
     "name": "stdout",
     "output_type": "stream",
     "text": [
      "El Firulais es de raza Labrador\n"
     ]
    }
   ],
   "source": [
    "print(f\"El {p.nombre} es de raza {p.raza}\")"
   ]
  },
  {
   "cell_type": "code",
   "execution_count": 49,
   "id": "56307619",
   "metadata": {},
   "outputs": [
    {
     "name": "stdout",
     "output_type": "stream",
     "text": [
      "El Firulais dice Ladra\n"
     ]
    }
   ],
   "source": [
    "print(f\"El {p.nombre} dice {p.hablar()}\")"
   ]
  },
  {
   "cell_type": "code",
   "execution_count": 50,
   "id": "16ef0dbe",
   "metadata": {},
   "outputs": [],
   "source": [
    "class Persona:\n",
    "    def __init__(self, nombre, edad):\n",
    "        self.nombre = nombre\n",
    "        self.edad = edad\n",
    "    def __str__(self):\n",
    "        return f\"{self.nombre}, {self.edad} años\""
   ]
  },
  {
   "cell_type": "code",
   "execution_count": 51,
   "id": "baed83f9",
   "metadata": {},
   "outputs": [],
   "source": [
    "p = Persona(\"Cricri\", 27)"
   ]
  },
  {
   "cell_type": "code",
   "execution_count": 52,
   "id": "f21943fb",
   "metadata": {},
   "outputs": [
    {
     "name": "stdout",
     "output_type": "stream",
     "text": [
      "Cricri, 27 años\n"
     ]
    }
   ],
   "source": [
    "print(p)"
   ]
  },
  {
   "cell_type": "code",
   "execution_count": 54,
   "id": "49306308",
   "metadata": {},
   "outputs": [],
   "source": [
    "class Cajon:\n",
    "    def __init__(self, objeto):\n",
    "        self.objeto = objeto\n",
    "    def canica(self):\n",
    "        print (1+1)"
   ]
  },
  {
   "cell_type": "code",
   "execution_count": 55,
   "id": "8313aaaa",
   "metadata": {},
   "outputs": [],
   "source": [
    "a = Cajon(\"cajita\")"
   ]
  },
  {
   "cell_type": "code",
   "execution_count": 56,
   "id": "65264974",
   "metadata": {},
   "outputs": [
    {
     "data": {
      "text/plain": [
       "<__main__.Cajon at 0x1ba7eb2f620>"
      ]
     },
     "execution_count": 56,
     "metadata": {},
     "output_type": "execute_result"
    }
   ],
   "source": [
    "a"
   ]
  },
  {
   "cell_type": "code",
   "execution_count": 57,
   "id": "1e2e33c8",
   "metadata": {},
   "outputs": [
    {
     "name": "stdout",
     "output_type": "stream",
     "text": [
      "<__main__.Cajon object at 0x000001BA7EB2F620>\n"
     ]
    }
   ],
   "source": [
    "print(a)"
   ]
  },
  {
   "cell_type": "code",
   "execution_count": 58,
   "id": "cdc64a76",
   "metadata": {},
   "outputs": [
    {
     "name": "stdout",
     "output_type": "stream",
     "text": [
      "2\n"
     ]
    }
   ],
   "source": [
    "a.canica()"
   ]
  },
  {
   "cell_type": "code",
   "execution_count": 59,
   "id": "9aca9fed",
   "metadata": {},
   "outputs": [],
   "source": [
    "class Cajon:\n",
    "    def __init__(self, objeto):\n",
    "        self.objeto = objeto\n",
    "    def canica(self):\n",
    "        print (1+1)\n",
    "    def __str__(self):\n",
    "        return f\"prueba a {self.objeto}\""
   ]
  },
  {
   "cell_type": "code",
   "execution_count": 60,
   "id": "fdec45c9",
   "metadata": {},
   "outputs": [],
   "source": [
    "a = Cajon(\"cajita\")"
   ]
  },
  {
   "cell_type": "code",
   "execution_count": 61,
   "id": "68f8034f",
   "metadata": {},
   "outputs": [
    {
     "name": "stdout",
     "output_type": "stream",
     "text": [
      "prueba a cajita\n"
     ]
    }
   ],
   "source": [
    "print(a)"
   ]
  },
  {
   "cell_type": "markdown",
   "id": "3bed9e46",
   "metadata": {},
   "source": [
    "Programación procedimental (sin clases) vs POO (con clases)"
   ]
  },
  {
   "cell_type": "code",
   "execution_count": null,
   "id": "2ada417c",
   "metadata": {},
   "outputs": [],
   "source": [
    "#Procedimental\n",
    "import math"
   ]
  },
  {
   "cell_type": "code",
   "execution_count": 63,
   "id": "056d3bc1",
   "metadata": {},
   "outputs": [],
   "source": [
    "def crear_vector (x,y):\n",
    "    return [x,y]"
   ]
  },
  {
   "cell_type": "code",
   "execution_count": 64,
   "id": "b3e8fee2",
   "metadata": {},
   "outputs": [],
   "source": [
    "def suma (v1,v2):\n",
    "    return (v1[0]+v2[0],v1[1]+v2[1])"
   ]
  },
  {
   "cell_type": "code",
   "execution_count": 71,
   "id": "23ea40d7",
   "metadata": {},
   "outputs": [],
   "source": [
    "def modulo(v):\n",
    "    return math.sqrt(v[0]**2+v[1]**2)"
   ]
  },
  {
   "cell_type": "code",
   "execution_count": 66,
   "id": "31c23a82",
   "metadata": {},
   "outputs": [],
   "source": [
    "def producto_escalar(v1, v2):\n",
    "    return v1[0]*v2[0]+v1[1]*v2[1]"
   ]
  },
  {
   "cell_type": "code",
   "execution_count": 67,
   "id": "0cfdf3d2",
   "metadata": {},
   "outputs": [],
   "source": [
    "v1 = crear_vector(1,2)\n",
    "v2 = crear_vector(3,4)"
   ]
  },
  {
   "cell_type": "code",
   "execution_count": 68,
   "id": "83d77436",
   "metadata": {},
   "outputs": [
    {
     "name": "stdout",
     "output_type": "stream",
     "text": [
      "Suma de los vectores (4, 6)\n"
     ]
    }
   ],
   "source": [
    "print(\"Suma de los vectores\", suma(v1,v2))"
   ]
  },
  {
   "cell_type": "code",
   "execution_count": 69,
   "id": "e8c45556",
   "metadata": {},
   "outputs": [
    {
     "data": {
      "text/plain": [
       "[[1, 2], [3, 4]]"
      ]
     },
     "execution_count": 69,
     "metadata": {},
     "output_type": "execute_result"
    }
   ],
   "source": [
    "lista = [v1, v2]\n",
    "lista"
   ]
  },
  {
   "cell_type": "code",
   "execution_count": 72,
   "id": "b69e8839",
   "metadata": {},
   "outputs": [
    {
     "name": "stdout",
     "output_type": "stream",
     "text": [
      "El módulo del vector [1, 2] es 2.23606797749979\n",
      "El módulo del vector [3, 4] es 5.0\n"
     ]
    }
   ],
   "source": [
    "for vector in lista:\n",
    "    print(f\"El módulo del vector {vector} es {modulo(vector)}\")"
   ]
  },
  {
   "cell_type": "code",
   "execution_count": 73,
   "id": "50c0e6f9",
   "metadata": {},
   "outputs": [
    {
     "name": "stdout",
     "output_type": "stream",
     "text": [
      "El producto escalar de los vectores es 11\n"
     ]
    }
   ],
   "source": [
    "print(f\"El producto escalar de los vectores es {producto_escalar(v1,v2)}\")"
   ]
  },
  {
   "cell_type": "code",
   "execution_count": 75,
   "id": "400be0b3",
   "metadata": {},
   "outputs": [],
   "source": [
    "#POO\n",
    "class Vector2D:\n",
    "    def __init__(self, x, y):\n",
    "        self.x = x\n",
    "        self.y = y\n",
    "\n",
    "    def __add__(self, other):\n",
    "        return Vector2D(self.x + other.x, self.y + other.y)\n",
    "    \n",
    "    def modulo(self):\n",
    "        return math.sqrt(self.x**2 + self.y**2)\n",
    "    \n",
    "    def producto_escalar(self, other):\n",
    "        return self.x*other.x + self.y*other.y\n",
    "    \n",
    "    def __str__(self):\n",
    "        return f\"({self.x}, {self.y})\""
   ]
  },
  {
   "cell_type": "code",
   "execution_count": 76,
   "id": "2719034b",
   "metadata": {},
   "outputs": [],
   "source": [
    "v1 = Vector2D(2,1)\n",
    "v2 = Vector2D(3,2)"
   ]
  },
  {
   "cell_type": "code",
   "execution_count": 78,
   "id": "5f9ff593",
   "metadata": {},
   "outputs": [
    {
     "name": "stdout",
     "output_type": "stream",
     "text": [
      "Suma: (5, 3)\n"
     ]
    }
   ],
   "source": [
    "print(\"Suma:\", v1+v2)"
   ]
  },
  {
   "cell_type": "code",
   "execution_count": 80,
   "id": "96fef6df",
   "metadata": {},
   "outputs": [
    {
     "name": "stdout",
     "output_type": "stream",
     "text": [
      "Modulo 2.23606797749979\n"
     ]
    }
   ],
   "source": [
    "print(\"Modulo\", v1.modulo())"
   ]
  },
  {
   "cell_type": "code",
   "execution_count": 82,
   "id": "f4a99ae6",
   "metadata": {},
   "outputs": [
    {
     "name": "stdout",
     "output_type": "stream",
     "text": [
      "Producto: 8\n"
     ]
    }
   ],
   "source": [
    "print(\"Producto:\", v1.producto_escalar(v2))"
   ]
  },
  {
   "cell_type": "code",
   "execution_count": 83,
   "id": "3eac0b8e",
   "metadata": {},
   "outputs": [
    {
     "name": "stdout",
     "output_type": "stream",
     "text": [
      "(2, 1)\n"
     ]
    }
   ],
   "source": [
    "print(v1)"
   ]
  },
  {
   "cell_type": "code",
   "execution_count": 1,
   "id": "4b019810",
   "metadata": {},
   "outputs": [],
   "source": [
    "class Cristian:\n",
    "    def __init__(self, edad):\n",
    "        self.edad = edad\n",
    "\n",
    "    def __str__(self):\n",
    "        return f\"Cristian tiene {self.edad}\""
   ]
  },
  {
   "cell_type": "code",
   "execution_count": 2,
   "id": "8e09a72f",
   "metadata": {},
   "outputs": [
    {
     "name": "stdout",
     "output_type": "stream",
     "text": [
      "¡Hola desde mi primer proyecto con Git y GitHub!\n",
      "Versión 2\n"
     ]
    }
   ],
   "source": [
    "print(\"¡Hola desde mi primer proyecto con Git y GitHub!\")\n",
    "print(\"Versión 2\")"
   ]
  },
  {
   "cell_type": "code",
   "execution_count": 3,
   "id": "511578fb",
   "metadata": {},
   "outputs": [
    {
     "name": "stdout",
     "output_type": "stream",
     "text": [
      "Tercer versionamiento\n"
     ]
    }
   ],
   "source": [
    "print (\"Tercer versionamiento\")"
   ]
  },
  {
   "cell_type": "code",
   "execution_count": 4,
   "id": "a9d1af18",
   "metadata": {},
   "outputs": [
    {
     "name": "stdout",
     "output_type": "stream",
     "text": [
      "Cuarto versionamiento\n"
     ]
    }
   ],
   "source": [
    "print (\"Cuarto versionamiento\")"
   ]
  }
 ],
 "metadata": {
  "kernelspec": {
   "display_name": "Python 3",
   "language": "python",
   "name": "python3"
  },
  "language_info": {
   "codemirror_mode": {
    "name": "ipython",
    "version": 3
   },
   "file_extension": ".py",
   "mimetype": "text/x-python",
   "name": "python",
   "nbconvert_exporter": "python",
   "pygments_lexer": "ipython3",
   "version": "3.13.2"
  }
 },
 "nbformat": 4,
 "nbformat_minor": 5
}
